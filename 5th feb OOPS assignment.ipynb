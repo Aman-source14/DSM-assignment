{
 "cells": [
  {
   "cell_type": "code",
   "execution_count": null,
   "id": "02061133-4994-4d95-9068-f9b3e06f96c8",
   "metadata": {},
   "outputs": [],
   "source": [
    "Q1. Explain Class and Object with respect to Object-Oriented Programming. Give a suitable example."
   ]
  },
  {
   "cell_type": "code",
   "execution_count": null,
   "id": "46e70216-5bd2-4ccc-93ab-99786907690f",
   "metadata": {},
   "outputs": [],
   "source": [
    "Class:\n",
    "A class is a blueprint for creating objects. \n",
    "It defines a set of attributes and methods that the created objects will have. \n",
    "It encapsulates data for the object.\n",
    "\n",
    "Object:\n",
    "An object is an instance of a class.\n",
    "When a class is defined, no memory is allocated until an object of that class is created.\n",
    "\n",
    "Example:"
   ]
  },
  {
   "cell_type": "code",
   "execution_count": 1,
   "id": "bab3db46-9cec-43d0-a7b7-e613a2c653ef",
   "metadata": {},
   "outputs": [
    {
     "name": "stdout",
     "output_type": "stream",
     "text": [
      "Toyota\n",
      "2020 Toyota Corolla\n"
     ]
    }
   ],
   "source": [
    "# Defining a class\n",
    "class Car:\n",
    "    def __init__(self, make, model, year):\n",
    "        self.make = make\n",
    "        self.model = model\n",
    "        self.year = year\n",
    "    \n",
    "    def display_info(self):\n",
    "        print(f\"{self.year} {self.make} {self.model}\")\n",
    "\n",
    "# Creating an object (instance of the class)\n",
    "my_car = Car(\"Toyota\", \"Corolla\", 2020)\n",
    "\n",
    "# Accessing attributes and methods of the object\n",
    "print(my_car.make)  # Output: Toyota\n",
    "my_car.display_info()  # Output: 2020 Toyota Corolla\n"
   ]
  },
  {
   "cell_type": "code",
   "execution_count": null,
   "id": "5803236f-f067-4561-b7e9-4a09ac774a1d",
   "metadata": {},
   "outputs": [],
   "source": [
    "Q2. Name the four pillars of OOPs."
   ]
  },
  {
   "cell_type": "code",
   "execution_count": null,
   "id": "b57da2e9-4ca3-46bf-bdea-0ab68ba4f1eb",
   "metadata": {},
   "outputs": [],
   "source": [
    "Encapsulation: The concept of wrapping data and methods that work on the data within a single unit (class). \n",
    "It restricts direct access to some of the object's components and can prevent the accidental modification of data.\n",
    "\n",
    "Abstraction: The process of hiding the complex implementation details and showing only the essential features of the object. \n",
    "It helps to reduce complexity and allows the programmer to focus on interactions at a high level.\n",
    "\n",
    "Inheritance: The mechanism by which one class can inherit attributes and methods from another class.\n",
    "This promotes code reuse and establishes a relationship between the base class and derived classes.\n",
    "\n",
    "Polymorphism: The ability to present the same interface for different underlying data types. \n",
    "It allows methods to do different things based on the object it is acting upon, even if they share the same name."
   ]
  },
  {
   "cell_type": "code",
   "execution_count": null,
   "id": "2cd73609-f3f9-48b9-b307-a6ecf7f6d753",
   "metadata": {},
   "outputs": [],
   "source": [
    "Q3. Explain why the __init__() function is used. Give a suitable example."
   ]
  },
  {
   "cell_type": "code",
   "execution_count": null,
   "id": "e22ab73d-fedf-4b36-92df-f8d4b2880a5b",
   "metadata": {},
   "outputs": [],
   "source": [
    "The __init__() function is a special method in Python classes. \n",
    "It is called the constructor and is automatically invoked when a new object of the class is instantiated.\n",
    "It allows the class to initialize the attributes of the class.\n",
    "\n",
    "Example:"
   ]
  },
  {
   "cell_type": "code",
   "execution_count": 3,
   "id": "180861ba-0b6f-44e8-9249-a5a212528504",
   "metadata": {},
   "outputs": [
    {
     "name": "stdout",
     "output_type": "stream",
     "text": [
      "Hello, my name is Aman and I am 22 years old.\n"
     ]
    }
   ],
   "source": [
    "class Person:\n",
    "    def __init__(self, name, age):\n",
    "        self.name = name\n",
    "        self.age = age\n",
    "    \n",
    "    def greet(self):\n",
    "        print(f\"Hello, my name is {self.name} and I am {self.age} years old.\")\n",
    "\n",
    "# Creating an object (instance of the class)\n",
    "person1 = Person(\"Aman\", 22)\n",
    "\n",
    "# Accessing attributes and methods of the object\n",
    "person1.greet()  # Output: Hello, my name is Aman and I am 22 years old.\n"
   ]
  },
  {
   "cell_type": "code",
   "execution_count": null,
   "id": "76a50013-3918-4808-b2f9-23ea19fa2232",
   "metadata": {},
   "outputs": [],
   "source": [
    "Q4. Why self is used in OOPs?"
   ]
  },
  {
   "cell_type": "code",
   "execution_count": null,
   "id": "1fda72e3-33af-49f8-822f-6ad7a9ad0470",
   "metadata": {},
   "outputs": [],
   "source": [
    "self is a reference to the current instance of the class.\n",
    "It is used to access variables and methods associated with the object. \n",
    "self allows each object to keep track of its own data. Without self, Python would not know which instance attributes to use.\n",
    "\n",
    "Example:"
   ]
  },
  {
   "cell_type": "code",
   "execution_count": 4,
   "id": "30d4e18b-4f81-4552-993b-d823e16655db",
   "metadata": {},
   "outputs": [
    {
     "name": "stdout",
     "output_type": "stream",
     "text": [
      "Buddy says woof!\n"
     ]
    }
   ],
   "source": [
    "class Dog:\n",
    "    def __init__(self, name, breed):\n",
    "        self.name = name\n",
    "        self.breed = breed\n",
    "    \n",
    "    def bark(self):\n",
    "        print(f\"{self.name} says woof!\")\n",
    "\n",
    "dog1 = Dog(\"Buddy\", \"Golden Retriever\")\n",
    "dog1.bark()  # Output: Buddy says woof!\n"
   ]
  },
  {
   "cell_type": "code",
   "execution_count": null,
   "id": "9d6fd2ec-6417-42b6-a9e6-5721386887e8",
   "metadata": {},
   "outputs": [],
   "source": [
    "Q5. What is inheritance? Give an example for each type of inheritance."
   ]
  },
  {
   "cell_type": "code",
   "execution_count": null,
   "id": "2bcecede-44c2-40f2-ae82-c827c6d47584",
   "metadata": {},
   "outputs": [],
   "source": [
    "Inheritance allows a class to inherit attributes and methods from another class.\n",
    "The class that inherits is called the derived (child) class, \n",
    "and the class being inherited from is the base (parent) class.\n",
    "\n",
    "Types of Inheritance:\n",
    "\n",
    "1.Single Inheritance: A child class inherits from a single parent class."
   ]
  },
  {
   "cell_type": "code",
   "execution_count": 5,
   "id": "8095d4e5-d4fa-4f11-acf0-2c256a07b16d",
   "metadata": {},
   "outputs": [
    {
     "name": "stdout",
     "output_type": "stream",
     "text": [
      "Buddy says woof!\n"
     ]
    }
   ],
   "source": [
    "class Animal:\n",
    "    def __init__(self, name):\n",
    "        self.name = name\n",
    "\n",
    "    def speak(self):\n",
    "        pass\n",
    "\n",
    "class Dog(Animal):\n",
    "    def speak(self):\n",
    "        return f\"{self.name} says woof!\"\n",
    "\n",
    "dog = Dog(\"Buddy\")\n",
    "print(dog.speak())  # Output: Buddy says woof!\n"
   ]
  },
  {
   "cell_type": "code",
   "execution_count": null,
   "id": "4729e23c-0ecb-44bf-84df-bd87735c1cba",
   "metadata": {},
   "outputs": [],
   "source": [
    "2.Multiple Inheritance: A child class inherits from more than one parent class."
   ]
  },
  {
   "cell_type": "code",
   "execution_count": 6,
   "id": "07871904-6d57-4a2b-b840-df99ebdc8821",
   "metadata": {},
   "outputs": [
    {
     "name": "stdout",
     "output_type": "stream",
     "text": [
      "Method A\n",
      "Method B\n"
     ]
    }
   ],
   "source": [
    "class A:\n",
    "    def method_a(self):\n",
    "        return \"Method A\"\n",
    "\n",
    "class B:\n",
    "    def method_b(self):\n",
    "        return \"Method B\"\n",
    "\n",
    "class C(A, B):\n",
    "    pass\n",
    "\n",
    "obj = C()\n",
    "print(obj.method_a())  # Output: Method A\n",
    "print(obj.method_b())  # Output: Method B\n"
   ]
  },
  {
   "cell_type": "code",
   "execution_count": null,
   "id": "9e63c56a-1b8b-4db3-a2e9-61a495f3c983",
   "metadata": {},
   "outputs": [],
   "source": [
    "3.Multilevel Inheritance: A class is derived from a class which is also derived from another class."
   ]
  },
  {
   "cell_type": "code",
   "execution_count": 7,
   "id": "c7a26192-dc95-49d5-81be-b46558e7a05d",
   "metadata": {},
   "outputs": [
    {
     "name": "stdout",
     "output_type": "stream",
     "text": [
      "Buddy is walking\n",
      "Buddy says woof!\n"
     ]
    }
   ],
   "source": [
    "class Animal:\n",
    "    def __init__(self, name):\n",
    "        self.name = name\n",
    "\n",
    "class Mammal(Animal):\n",
    "    def walk(self):\n",
    "        return f\"{self.name} is walking\"\n",
    "\n",
    "class Dog(Mammal):\n",
    "    def bark(self):\n",
    "        return f\"{self.name} says woof!\"\n",
    "\n",
    "dog = Dog(\"Buddy\")\n",
    "print(dog.walk())  # Output: Buddy is walking\n",
    "print(dog.bark())  # Output: Buddy says woof!\n"
   ]
  },
  {
   "cell_type": "code",
   "execution_count": null,
   "id": "d7168d4f-2f88-4aeb-a1b2-06a7e2db3978",
   "metadata": {},
   "outputs": [],
   "source": [
    "4.Hierarchical Inheritance: Multiple child classes inherit from a single parent class."
   ]
  },
  {
   "cell_type": "code",
   "execution_count": 8,
   "id": "92ec29c1-c088-422f-9f15-13a713af5ee1",
   "metadata": {},
   "outputs": [
    {
     "name": "stdout",
     "output_type": "stream",
     "text": [
      "Buddy says woof!\n",
      "Whiskers says meow!\n"
     ]
    }
   ],
   "source": [
    "class Animal:\n",
    "    def __init__(self, name):\n",
    "        self.name = name\n",
    "\n",
    "class Dog(Animal):\n",
    "    def speak(self):\n",
    "        return f\"{self.name} says woof!\"\n",
    "\n",
    "class Cat(Animal):\n",
    "    def speak(self):\n",
    "        return f\"{self.name} says meow!\"\n",
    "\n",
    "dog = Dog(\"Buddy\")\n",
    "cat = Cat(\"Whiskers\")\n",
    "print(dog.speak())  # Output: Buddy says woof!\n",
    "print(cat.speak())  # Output: Whiskers says meow!\n"
   ]
  },
  {
   "cell_type": "code",
   "execution_count": null,
   "id": "74605d90-1caf-4f6f-85cd-20558ff65d40",
   "metadata": {},
   "outputs": [],
   "source": [
    "5.Hybrid Inheritance: A combination of two or more types of inheritance."
   ]
  },
  {
   "cell_type": "code",
   "execution_count": 9,
   "id": "c60ba8a8-5eef-402b-bcbc-c8a6957a7a94",
   "metadata": {},
   "outputs": [
    {
     "name": "stdout",
     "output_type": "stream",
     "text": [
      "Method A\n",
      "Method B\n",
      "Method C\n"
     ]
    }
   ],
   "source": [
    "class A:\n",
    "    def method_a(self):\n",
    "        return \"Method A\"\n",
    "\n",
    "class B(A):\n",
    "    def method_b(self):\n",
    "        return \"Method B\"\n",
    "\n",
    "class C(A):\n",
    "    def method_c(self):\n",
    "        return \"Method C\"\n",
    "\n",
    "class D(B, C):\n",
    "    pass\n",
    "\n",
    "obj = D()\n",
    "print(obj.method_a())  # Output: Method A\n",
    "print(obj.method_b())  # Output: Method B\n",
    "print(obj.method_c())  # Output: Method C\n"
   ]
  },
  {
   "cell_type": "code",
   "execution_count": null,
   "id": "0cfa6355-fcc5-4576-ac44-8c25d38bd057",
   "metadata": {},
   "outputs": [],
   "source": []
  }
 ],
 "metadata": {
  "kernelspec": {
   "display_name": "Python 3 (ipykernel)",
   "language": "python",
   "name": "python3"
  },
  "language_info": {
   "codemirror_mode": {
    "name": "ipython",
    "version": 3
   },
   "file_extension": ".py",
   "mimetype": "text/x-python",
   "name": "python",
   "nbconvert_exporter": "python",
   "pygments_lexer": "ipython3",
   "version": "3.10.8"
  }
 },
 "nbformat": 4,
 "nbformat_minor": 5
}
